{
 "cells": [
  {
   "cell_type": "markdown",
   "id": "575aef95",
   "metadata": {},
   "source": [
    "This is my SQL portfolio project based on my coursework for this [Coursera course](https://www.coursera.org/learn/sql-data-science). "
   ]
  },
  {
   "cell_type": "code",
   "execution_count": null,
   "id": "37df8e2f",
   "metadata": {},
   "outputs": [],
   "source": [
    "!pip install ipython-sql"
   ]
  },
  {
   "cell_type": "code",
   "execution_count": null,
   "id": "f475cc0c",
   "metadata": {},
   "outputs": [],
   "source": [
    "%load_ext sql"
   ]
  },
  {
   "cell_type": "code",
   "execution_count": null,
   "id": "0cbc1e52",
   "metadata": {},
   "outputs": [],
   "source": [
    "import csv, sqlite3\n",
    "\n",
    "con = sqlite3.connect(\"sqlDB.db\")\n",
    "cur = con.cursor()\n",
    "!pip install -q pandas==1.1.5"
   ]
  },
  {
   "cell_type": "code",
   "execution_count": null,
   "id": "b1e238fb",
   "metadata": {},
   "outputs": [],
   "source": [
    "%sql sqlite:///sqlDB.db"
   ]
  },
  {
   "cell_type": "code",
   "execution_count": null,
   "id": "4eae255e",
   "metadata": {},
   "outputs": [],
   "source": [
    "import pandas as pd\n",
    "df = pd.read_csv(\"https://cf-courses-data.s3.us.cloud-object-storage.appdomain.cloud/IBMDeveloperSkillsNetwork-DB0201EN-SkillsNetwork/labs/FinalModule_Coursera_V5/data/ChicagoCensusData.csv\")\n",
    "df.to_sql(\"CENSUS_DATA\", con, if_exists='replace', index=False,method=\"multi\")\n",
    "\n",
    "df = pd.read_csv(\"https://cf-courses-data.s3.us.cloud-object-storage.appdomain.cloud/IBMDeveloperSkillsNetwork-DB0201EN-SkillsNetwork/labs/FinalModule_Coursera_V5/data/ChicagoCrimeData.csv\")\n",
    "df.to_sql(\"CHICAGO_CRIME_DATA\", con, if_exists='replace', index=False, method=\"multi\")\n",
    "\n",
    "df = pd.read_csv(\"https://cf-courses-data.s3.us.cloud-object-storage.appdomain.cloud/IBMDeveloperSkillsNetwork-DB0201EN-SkillsNetwork/labs/FinalModule_Coursera_V5/data/ChicagoPublicSchools.csv\")\n",
    "df.to_sql(\"CHICAGO_PUBLIC_SCHOOLS_DATA\", con, if_exists='replace', index=False, method=\"multi\")"
   ]
  },
  {
   "cell_type": "markdown",
   "id": "21feb6e7",
   "metadata": {},
   "source": [
    "Verify if the table creation was successful by retrieving the list of all tables in the schema:"
   ]
  },
  {
   "cell_type": "code",
   "execution_count": null,
   "id": "be46535a",
   "metadata": {},
   "outputs": [],
   "source": [
    "%sql SELECT name FROM sqlite_master WHERE type='table'"
   ]
  },
  {
   "cell_type": "markdown",
   "id": "daca3d20",
   "metadata": {},
   "source": [
    "Uncomment the table you wanna view:"
   ]
  },
  {
   "cell_type": "code",
   "execution_count": null,
   "id": "7ba803ca",
   "metadata": {},
   "outputs": [],
   "source": [
    "#%sql select * from CENSUS_DATA limit 5\n",
    "#%sql select * from CHICAGO_PUBLIC_SCHOOLS_DATA limit 5\n",
    "#%sql select * from CHICAGO_CRIME_DATA limit 5"
   ]
  },
  {
   "cell_type": "markdown",
   "id": "1e50ce82",
   "metadata": {},
   "source": [
    "### Question 1\n",
    "\n",
    "#### How many Elementary Schools are in the dataset?"
   ]
  },
  {
   "cell_type": "code",
   "execution_count": null,
   "id": "aef2ca3b",
   "metadata": {},
   "outputs": [],
   "source": [
    "%%sql\n",
    "\n",
    "SELECT COUNT(*)\n",
    "FROM CHICAGO_PUBLIC_SCHOOLS_DATA\n",
    "WHERE \"Elementary, Middle, or High School\" = 'ES'"
   ]
  },
  {
   "cell_type": "markdown",
   "id": "c4accd44",
   "metadata": {},
   "source": [
    "### Question 2\n",
    "\n",
    "#### What is the highest Safety Score?"
   ]
  },
  {
   "cell_type": "code",
   "execution_count": null,
   "id": "05ace68d",
   "metadata": {},
   "outputs": [],
   "source": [
    "%%sql\n",
    "\n",
    "SELECT MAX(SAFETY_SCORE) AS MAX_SAFETY_SCORE\n",
    "FROM CHICAGO_PUBLIC_SCHOOLS_DATA"
   ]
  },
  {
   "cell_type": "code",
   "execution_count": null,
   "id": "12d65abc",
   "metadata": {},
   "outputs": [],
   "source": [
    "%%sql\n",
    "\n",
    "SELECT NAME_OF_SCHOOL, MAX(SAFETY_SCORE) as MAX_SAFETY_SCORE\n",
    "FROM CHICAGO_PUBLIC_SCHOOLS_DATA"
   ]
  },
  {
   "cell_type": "markdown",
   "id": "485d77d0",
   "metadata": {},
   "source": [
    "### Question 3\n",
    "\n",
    "#### Which schools have highest Safety Score?"
   ]
  },
  {
   "cell_type": "code",
   "execution_count": null,
   "id": "57456f79",
   "metadata": {},
   "outputs": [],
   "source": [
    "%%sql\n",
    "\n",
    "SELECT NAME_OF_SCHOOL, SAFETY_SCORE\n",
    "FROM CHICAGO_PUBLIC_SCHOOLS_DATA\n",
    "WHERE SAFETY_SCORE = (SELECT MAX(SAFETY_SCORE) FROM CHICAGO_PUBLIC_SCHOOLS_DATA)"
   ]
  },
  {
   "cell_type": "markdown",
   "id": "23875a5e",
   "metadata": {},
   "source": [
    "### Question 4\n",
    "\n",
    "#### What are the top 10 schools with the highest \"Average Student Attendance\"?"
   ]
  },
  {
   "cell_type": "code",
   "execution_count": null,
   "id": "7138a144",
   "metadata": {
    "scrolled": true
   },
   "outputs": [],
   "source": [
    "%%sql\n",
    "\n",
    "SELECT NAME_OF_SCHOOL, AVERAGE_STUDENT_ATTENDANCE\n",
    "FROM CHICAGO_PUBLIC_SCHOOLS_DATA\n",
    "ORDER BY AVERAGE_STUDENT_ATTENDANCE DESC\n",
    "LIMIT 10"
   ]
  },
  {
   "cell_type": "markdown",
   "id": "62cfccb4",
   "metadata": {},
   "source": [
    "### Question 5\n",
    "\n",
    "#### Retrieve the list of 5 Schools with the lowest Average Student Attendance sorted in ascending order based on attendance"
   ]
  },
  {
   "cell_type": "code",
   "execution_count": null,
   "id": "8a9fad7c",
   "metadata": {},
   "outputs": [],
   "source": [
    "%%sql \n",
    "\n",
    "SELECT NAME_OF_SCHOOL, AVERAGE_STUDENT_ATTENDANCE\n",
    "FROM CHICAGO_PUBLIC_SCHOOLS_DATA\n",
    "WHERE AVERAGE_STUDENT_ATTENDANCE != 'None'\n",
    "ORDER BY AVERAGE_STUDENT_ATTENDANCE \n",
    "LIMIT 5"
   ]
  },
  {
   "cell_type": "markdown",
   "id": "0a21a097",
   "metadata": {},
   "source": [
    "### Question 6\n",
    "\n",
    "#### Now remove the '%' sign from the above result set for Average Student Attendance column"
   ]
  },
  {
   "cell_type": "code",
   "execution_count": null,
   "id": "e8084ecc",
   "metadata": {},
   "outputs": [],
   "source": [
    "%%sql \n",
    "\n",
    "SELECT NAME_OF_SCHOOL, REPLACE(AVERAGE_STUDENT_ATTENDANCE,'%','') AS AVG_STUD_ATD\n",
    "FROM CHICAGO_PUBLIC_SCHOOLS_DATA\n",
    "WHERE AVERAGE_STUDENT_ATTENDANCE != 'None'\n",
    "ORDER BY AVERAGE_STUDENT_ATTENDANCE \n",
    "LIMIT 5"
   ]
  },
  {
   "cell_type": "markdown",
   "id": "e9ebf3bf",
   "metadata": {},
   "source": [
    "### Question 7\n",
    "\n",
    "#### Which Schools have Average Student Attendance lower than 70%?"
   ]
  },
  {
   "cell_type": "code",
   "execution_count": null,
   "id": "e4306c0a",
   "metadata": {},
   "outputs": [],
   "source": [
    "%%sql \n",
    "\n",
    "SELECT NAME_OF_SCHOOL, AVERAGE_STUDENT_ATTENDANCE\n",
    "FROM CHICAGO_PUBLIC_SCHOOLS_DATA\n",
    "WHERE AVERAGE_STUDENT_ATTENDANCE < 70 \n",
    "ORDER BY AVERAGE_STUDENT_ATTENDANCE "
   ]
  },
  {
   "cell_type": "markdown",
   "id": "ce02cfd1",
   "metadata": {},
   "source": [
    "### Question 8\n",
    "\n",
    "#### Get the total College Enrollment for each Community Area"
   ]
  },
  {
   "cell_type": "code",
   "execution_count": null,
   "id": "069c9a40",
   "metadata": {},
   "outputs": [],
   "source": [
    "%%sql\n",
    "\n",
    "SELECT COMMUNITY_AREA_NAME, SUM(COLLEGE_ENROLLMENT) AS TOTAL_COLLEGE_ENROLLMENT\n",
    "FROM CHICAGO_PUBLIC_SCHOOLS_DATA\n",
    "WHERE COLLEGE_ENROLLMENT != 'NDA'\n",
    "GROUP BY COMMUNITY_AREA_NAME"
   ]
  },
  {
   "cell_type": "markdown",
   "id": "cd9c99a2",
   "metadata": {},
   "source": [
    "### Question 9\n",
    "\n",
    "#### Get the 5 Community Areas with the least total College Enrollment sorted in ascending order"
   ]
  },
  {
   "cell_type": "code",
   "execution_count": null,
   "id": "5ae988f0",
   "metadata": {},
   "outputs": [],
   "source": [
    "%%sql\n",
    "\n",
    "SELECT COMMUNITY_AREA_NAME, SUM(COLLEGE_ENROLLMENT) AS TOTAL_COLLEGE_ENROLLMENT\n",
    "FROM CHICAGO_PUBLIC_SCHOOLS_DATA\n",
    "GROUP BY COMMUNITY_AREA_NAME\n",
    "ORDER BY TOTAL_COLLEGE_ENROLLMENT\n",
    "LIMIT 5"
   ]
  },
  {
   "cell_type": "markdown",
   "id": "c8590c60",
   "metadata": {},
   "source": [
    "### Question 10\n",
    "\n",
    "#### List 5 schools with lowest safety score."
   ]
  },
  {
   "cell_type": "code",
   "execution_count": null,
   "id": "d788206e",
   "metadata": {},
   "outputs": [],
   "source": [
    "%%sql\n",
    "\n",
    "SELECT NAME_OF_SCHOOL, SAFETY_SCORE\n",
    "FROM CHICAGO_PUBLIC_SCHOOLS_DATA\n",
    "WHERE SAFETY_SCORE != 'None'\n",
    "ORDER BY SAFETY_SCORE\n",
    "LIMIT 5"
   ]
  },
  {
   "cell_type": "markdown",
   "id": "6e8a908f",
   "metadata": {},
   "source": [
    "### Question 11\n",
    "\n",
    "#### Get the hardship index for the community area which has College Enrollment of 4368"
   ]
  },
  {
   "cell_type": "code",
   "execution_count": null,
   "id": "f34d8ff7",
   "metadata": {},
   "outputs": [],
   "source": [
    "%%sql\n",
    "\n",
    "SELECT c.COMMUNITY_AREA_NAME, c.HARDSHIP_INDEX\n",
    "FROM CHICAGO_PUBLIC_SCHOOLS_DATA s, CENSUS_DATA c\n",
    "WHERE s.COMMUNITY_AREA_NUMBER = c.COMMUNITY_AREA_NUMBER AND s.COLLEGE_ENROLLMENT = 4368"
   ]
  },
  {
   "cell_type": "markdown",
   "id": "548ff857",
   "metadata": {},
   "source": [
    "### Question 12\n",
    "\n",
    "#### Use a sub-query to find the name of the community area with highest hardship index"
   ]
  },
  {
   "cell_type": "code",
   "execution_count": null,
   "id": "8dca18fa",
   "metadata": {},
   "outputs": [],
   "source": [
    "%%sql\n",
    "\n",
    "SELECT COMMUNITY_AREA_NAME, HARDSHIP_INDEX \n",
    "FROM CENSUS_DATA\n",
    "WHERE HARDSHIP_INDEX = (SELECT MAX(HARDSHIP_INDEX) FROM CENSUS_DATA) "
   ]
  },
  {
   "cell_type": "markdown",
   "id": "42d6c29b",
   "metadata": {},
   "source": [
    "### Question 13\n",
    "\n",
    "#### Get the hardship index for the community area which has the highest value for College Enrollment"
   ]
  },
  {
   "cell_type": "code",
   "execution_count": null,
   "id": "1cd8a68e",
   "metadata": {},
   "outputs": [],
   "source": [
    "%%sql\n",
    "\n",
    "SELECT c.COMMUNITY_AREA_NAME, c.HARDSHIP_INDEX, s.COLLEGE_ENROLLMENT \n",
    "FROM CENSUS_DATA c, CHICAGO_PUBLIC_SCHOOLS_DATA s\n",
    "WHERE s.COMMUNITY_AREA_NUMBER = c.COMMUNITY_AREA_NUMBER \n",
    "AND COLLEGE_ENROLLMENT = (SELECT MAX(COLLEGE_ENROLLMENT) FROM CHICAGO_PUBLIC_SCHOOLS_DATA)"
   ]
  },
  {
   "cell_type": "markdown",
   "id": "630949de",
   "metadata": {},
   "source": [
    "### Question 14\n",
    "\n",
    "#### List all case numbers for crimes involving narcotics"
   ]
  },
  {
   "cell_type": "code",
   "execution_count": null,
   "id": "552b6dff",
   "metadata": {},
   "outputs": [],
   "source": [
    "%%sql\n",
    "\n",
    "SELECT CASE_NUMBER, DESCRIPTION\n",
    "FROM CHICAGO_CRIME_DATA\n",
    "WHERE DESCRIPTION like '%narcotics%'"
   ]
  },
  {
   "cell_type": "markdown",
   "id": "4a685014",
   "metadata": {},
   "source": [
    "### Question 15\n",
    "\n",
    "#### List all the alcohol-related crimes involving minors"
   ]
  },
  {
   "cell_type": "code",
   "execution_count": null,
   "id": "f33a8325",
   "metadata": {},
   "outputs": [],
   "source": [
    "%%sql\n",
    "\n",
    "SELECT CASE_NUMBER, DESCRIPTION\n",
    "FROM CHICAGO_CRIME_DATA\n",
    "WHERE PRIMARY_TYPE like '%liquor%' AND DESCRIPTION like '%minor%'"
   ]
  },
  {
   "cell_type": "code",
   "execution_count": null,
   "id": "f12fed1c",
   "metadata": {},
   "outputs": [],
   "source": []
  }
 ],
 "metadata": {
  "kernelspec": {
   "display_name": "Python 3 (ipykernel)",
   "language": "python",
   "name": "python3"
  },
  "language_info": {
   "codemirror_mode": {
    "name": "ipython",
    "version": 3
   },
   "file_extension": ".py",
   "mimetype": "text/x-python",
   "name": "python",
   "nbconvert_exporter": "python",
   "pygments_lexer": "ipython3",
   "version": "3.9.7"
  }
 },
 "nbformat": 4,
 "nbformat_minor": 5
}
